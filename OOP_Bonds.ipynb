{
  "nbformat": 4,
  "nbformat_minor": 0,
  "metadata": {
    "colab": {
      "provenance": [],
      "toc_visible": true,
      "include_colab_link": true
    },
    "kernelspec": {
      "name": "python3",
      "display_name": "Python 3"
    },
    "language_info": {
      "name": "python"
    }
  },
  "cells": [
    {
      "cell_type": "markdown",
      "metadata": {
        "id": "view-in-github",
        "colab_type": "text"
      },
      "source": [
        "<a href=\"https://colab.research.google.com/github/ZiyueLiu-zl3472/week7/blob/main/OOP_Bonds.ipynb\" target=\"_parent\"><img src=\"https://colab.research.google.com/assets/colab-badge.svg\" alt=\"Open In Colab\"/></a>"
      ]
    },
    {
      "cell_type": "markdown",
      "source": [
        "# Random Bond Class"
      ],
      "metadata": {
        "id": "rdwnrJanBVJ2"
      }
    },
    {
      "cell_type": "code",
      "source": [
        "# Bond\n",
        "# Automatic population of attributes\n",
        "\n",
        "import numpy as np\n",
        "\n",
        "class bond:\n",
        "    def __init__(self):\n",
        "        self.face = (round(np.random.uniform()*10,0)+1)*1e6\n",
        "        self.couponRate = round(np.random.uniform()/3,3)\n",
        "        self.pmtperyear = int(round(np.random.uniform(),0)+1)\n",
        "        self.m = int(round(np.random.uniform()*10,0))\n",
        "        self.ytm = round(np.random.uniform()/3,3)\n",
        "        self.m = round(np.random.uniform()*5+5)\n",
        "        self.price = 0\n",
        "        self.duration = 0\n",
        "    def __repr__(self):\n",
        "        return \"{},{},{},{}\".format(self.face,self.ytm,self.couponRate,self.m)\n",
        "\n",
        "b1 = bond()\n",
        "print(b1)"
      ],
      "metadata": {
        "colab": {
          "base_uri": "https://localhost:8080/"
        },
        "id": "rffLJ3nN8_F_",
        "outputId": "4c5026db-de05-4d0c-e4ae-78ea41229e0b"
      },
      "execution_count": 1,
      "outputs": [
        {
          "output_type": "stream",
          "name": "stdout",
          "text": [
            "5000000.0,0.256,0.13,6\n"
          ]
        }
      ]
    },
    {
      "cell_type": "code",
      "source": [
        "# Bond\n",
        "# Automatic population of attributes\n",
        "# Assign function available to set attributes\n",
        "\n",
        "class bond:\n",
        "    def __init__(self):\n",
        "        self.face = (round(np.random.uniform()*10,0)+1)*1e6\n",
        "        self.couponrate = round(np.random.uniform()/3,3)\n",
        "        self.pmtperyear = int(round(np.random.uniform(),0)+1)\n",
        "        self.m = int(round(np.random.uniform()*10,0))\n",
        "        self.ytm = round(np.random.uniform()/3,3)\n",
        "        self.m = round(np.random.uniform()*5+5)\n",
        "        self.price = 0\n",
        "        self.duration = 0\n",
        "    def __repr__(self):\n",
        "        return \"{},{},{},{}\".format(self.face,self.ytm,self.couponrate,self.m)\n",
        "    def Assign(self,face,couponrate,m,ytm,pmtperyear):\n",
        "        self.face = face\n",
        "        self.couponrate = couponrate\n",
        "        self.pmtperyear = pmtperyear\n",
        "        self.m = m\n",
        "        self.ytm = ytm\n",
        "\n",
        "b2 = bond()\n",
        "print(b2)\n",
        "b2.Assign(2e6,.03,.04,100,1)\n",
        "print(b2)\n",
        "\n"
      ],
      "metadata": {
        "colab": {
          "base_uri": "https://localhost:8080/"
        },
        "id": "E2LzwQdEKuBI",
        "outputId": "8f6ab428-8a1d-4565-e929-f6a1b90e2918"
      },
      "execution_count": 2,
      "outputs": [
        {
          "output_type": "stream",
          "name": "stdout",
          "text": [
            "3000000.0,0.321,0.104,6\n",
            "2000000.0,100,0.03,0.04\n"
          ]
        }
      ]
    },
    {
      "cell_type": "code",
      "source": [
        "# Bond\n",
        "# Automatic population of attributes\n",
        "# Assign function available to set attributes\n",
        "# Methods for price and duration\n",
        "\n",
        "class bond:\n",
        "    def __init__(self):\n",
        "        self.face = (round(np.random.uniform()*10,0)+1)*1e6\n",
        "        self.couponrate = round(np.random.uniform()/3,3)\n",
        "        self.pmtperyear = int(round(np.random.uniform(),0)+1)\n",
        "        self.m = int(round(np.random.uniform()*10,0))\n",
        "        self.ytm = round(np.random.uniform()/3,3)\n",
        "        self.m = round(np.random.uniform()*5+5)\n",
        "        self.price = 0\n",
        "        self.duration = 0\n",
        "    def __repr__(self):\n",
        "        return \"{},{},{},{},{},{}\".format(self.face,self.ytm,self.couponrate,self.m,round(self.price,2),round(self.duration,2))\n",
        "    def Assign(self,face,ytm,couponrate,m,pmtperyear):\n",
        "        self.face = face\n",
        "        self.couponrate = couponrate\n",
        "        self.pmtperyear = pmtperyear\n",
        "        self.m = m\n",
        "        self.ytm = ytm\n",
        "    def getPrice(self):\n",
        "        face = self.face\n",
        "        couponrate = self.couponrate\n",
        "        pmtperyear = self.pmtperyear\n",
        "        m = self.m\n",
        "        y = self.ytm\n",
        "\n",
        "        C = face * couponrate / pmtperyear\n",
        "        n = m * pmtperyear\n",
        "        y_eff = y/pmtperyear\n",
        "        B = 0\n",
        "        for i in range(1,n+1):\n",
        "            pv = (1+y_eff)**(-i)\n",
        "            B_i = C * pv\n",
        "            B += B_i\n",
        "        B += face * pv\n",
        "        self.price = B\n",
        "    def getDuration(self):\n",
        "        face = self.face\n",
        "        couponrate = self.couponrate\n",
        "        pmtperyear = self.pmtperyear\n",
        "        m = self.m\n",
        "        y = self.ytm\n",
        "        C = face * couponrate / pmtperyear\n",
        "        n = m * pmtperyear\n",
        "        y_eff = y/pmtperyear\n",
        "        B = 0\n",
        "        Btime = 0\n",
        "        for i in range(1,n+1):\n",
        "            pv = (1+y_eff)**(-i)\n",
        "            B_i = C * pv\n",
        "            B += B_i\n",
        "            Btime_i = i * B_i\n",
        "            Btime += Btime_i\n",
        "        B += face * pv\n",
        "        Btime += face * pv * i\n",
        "        self.duration = Btime/B\n",
        "\n",
        "b3 = bond()\n",
        "b3.Assign(2e6,.03,.04,10,1)\n",
        "print(b3.price)\n",
        "b3.getPrice()\n",
        "print(b3.price)\n",
        "b3.getDuration()\n",
        "print(b3.duration)"
      ],
      "metadata": {
        "colab": {
          "base_uri": "https://localhost:8080/"
        },
        "id": "svzrrclX9ckI",
        "outputId": "5952b373-4a2b-4e1d-e82b-9a12b1249a85"
      },
      "execution_count": 3,
      "outputs": [
        {
          "output_type": "stream",
          "name": "stdout",
          "text": [
            "0\n",
            "2170604.0567355165\n",
            "8.508690304459574\n"
          ]
        }
      ]
    },
    {
      "cell_type": "code",
      "source": [
        "# Create a portfolio of bonds\n",
        "\n",
        "bonds = []\n",
        "n = 5\n",
        "for i in range(n):\n",
        "    bonds.append(bond())\n",
        "\n",
        "#%%\n",
        "for b in bonds:\n",
        "    print(b)"
      ],
      "metadata": {
        "colab": {
          "base_uri": "https://localhost:8080/"
        },
        "id": "MrehW3az-OCB",
        "outputId": "d3565c54-5f68-4b03-d740-8dd73c1392e4"
      },
      "execution_count": 4,
      "outputs": [
        {
          "output_type": "stream",
          "name": "stdout",
          "text": [
            "8000000.0,0.142,0.19,6,0,0\n",
            "5000000.0,0.329,0.252,6,0,0\n",
            "3000000.0,0.188,0.189,5,0,0\n",
            "4000000.0,0.222,0.303,10,0,0\n",
            "5000000.0,0.235,0.172,8,0,0\n"
          ]
        }
      ]
    },
    {
      "cell_type": "code",
      "source": [
        "# Create a portfolio of bonds\n",
        "# Get price and duration of bonds\n",
        "\n",
        "#%%\n",
        "for b in bonds:\n",
        "    b.getPrice()\n",
        "    b.getDuration()\n",
        "\n",
        "#%%\n",
        "for b in bonds:\n",
        "    print(b)\n"
      ],
      "metadata": {
        "colab": {
          "base_uri": "https://localhost:8080/"
        },
        "id": "3AkkYpkM-Sa9",
        "outputId": "9077ce60-42e8-428a-89a2-41e0d8447e79"
      },
      "execution_count": 5,
      "outputs": [
        {
          "output_type": "stream",
          "name": "stdout",
          "text": [
            "8000000.0,0.142,0.19,6,9485105.91,4.21\n",
            "5000000.0,0.329,0.252,6,4042167.88,3.45\n",
            "3000000.0,0.188,0.189,5,3009459.29,6.89\n",
            "4000000.0,0.222,0.303,10,5262906.32,4.57\n",
            "5000000.0,0.235,0.172,8,3907263.65,4.52\n"
          ]
        }
      ]
    },
    {
      "cell_type": "code",
      "source": [
        "# Calculated portfolio duration\n",
        "\n",
        "def PortfolioDuration(bonds):\n",
        "    num = 0\n",
        "    den = 0\n",
        "    for x in bonds:\n",
        "        D_i = x.duration\n",
        "        w_i = x.price\n",
        "        num += D_i * w_i\n",
        "        den += w_i\n",
        "    duration = num/den\n",
        "    return(duration)\n",
        "\n",
        "print(PortfolioDuration(bonds))\n"
      ],
      "metadata": {
        "colab": {
          "base_uri": "https://localhost:8080/"
        },
        "id": "xBPyIQLLL9G3",
        "outputId": "49cb5fed-f266-4491-ee5f-34f5cb95a2be"
      },
      "execution_count": 6,
      "outputs": [
        {
          "output_type": "stream",
          "name": "stdout",
          "text": [
            "4.525629420028015\n"
          ]
        }
      ]
    },
    {
      "cell_type": "markdown",
      "source": [
        "# Inheritance"
      ],
      "metadata": {
        "id": "8K_9LxjSEKXf"
      }
    },
    {
      "cell_type": "code",
      "source": [
        "# Demo of Inheritance\n",
        "# Create a class buy building on a previous one\n",
        "\n",
        "class Car:\n",
        "    def __init__(self, make, model, year): #define the 3 arguments\n",
        "        self.make = make\n",
        "        self.model = model\n",
        "        self.year = year\n",
        "        self.mileage = 0 #not in list, optional\n",
        "\n",
        "class ElectricCar(Car):\n",
        "    def __init__(self, make, model, year, battery_size):\n",
        "        super().__init__(make, model, year) #from original self from class car\n",
        "        self.battery_size = battery_size #from class car add battery size\n"
      ],
      "metadata": {
        "id": "TH5wX1x2EMVg"
      },
      "execution_count": 9,
      "outputs": []
    },
    {
      "cell_type": "code",
      "source": [
        "car=Car(\"Ford\",\"Mustang\",1966)\n",
        "print(car.make)\n",
        "car.mileage=30000\n",
        "print(car.mileage)"
      ],
      "metadata": {
        "colab": {
          "base_uri": "https://localhost:8080/"
        },
        "id": "HW-GfCFg42ls",
        "outputId": "fdb3acb2-e997-425a-940e-bd468aa025ca"
      },
      "execution_count": 15,
      "outputs": [
        {
          "output_type": "stream",
          "name": "stdout",
          "text": [
            "Ford\n",
            "30000\n"
          ]
        }
      ]
    },
    {
      "cell_type": "code",
      "source": [
        "eCar=ElectricCar(\"Ford\",\"Mustang\",2024,300) #build on existing object\n",
        "print(eCar.battery_size)"
      ],
      "metadata": {
        "colab": {
          "base_uri": "https://localhost:8080/"
        },
        "id": "27y58RsA5u8m",
        "outputId": "b08e6d75-1556-44ff-c8aa-8405599ee196"
      },
      "execution_count": 16,
      "outputs": [
        {
          "output_type": "stream",
          "name": "stdout",
          "text": [
            "300\n"
          ]
        }
      ]
    },
    {
      "cell_type": "markdown",
      "source": [
        "# Questions\n",
        "Study the example of Inheritance above.<br>\n",
        "Study the basics of [convertible bonds](https://www.investopedia.com/terms/c/convertiblebond.asp)\n"
      ],
      "metadata": {
        "id": "AsDeDCHKtExh"
      }
    },
    {
      "cell_type": "markdown",
      "source": [
        "# Q1 Update Bond Class\n",
        "\n",
        "Create a new version of the bond class <br>\n",
        "- Make it so that the bond requries values to be passed to it when it's initialized.  \n",
        "- This does the same work that the Assign method does.\n",
        "- Remove the Assign method. <br>\n",
        "\n"
      ],
      "metadata": {
        "id": "HAXiESfcQRiC"
      }
    },
    {
      "cell_type": "code",
      "source": [
        "class bond:\n",
        "    def __init__(self,face,ytm,couponrate,m,pmtperyear):\n",
        "        self.face = face\n",
        "        self.couponrate = ytm\n",
        "        self.pmtperyear = pmtperyear\n",
        "        self.m = m\n",
        "        self.ytm = ytm\n",
        "        self.price = 0\n",
        "        self.duration = 0\n",
        "    def __repr__(self):\n",
        "        return \"{},{},{},{},{},{}\".format(self.face,self.ytm,self.couponrate,self.m,round(self.price,2),round(self.duration,2))\n",
        ""
      ],
      "metadata": {
        "id": "zqR7bHXAMFdm"
      },
      "execution_count": 23,
      "outputs": []
    },
    {
      "cell_type": "code",
      "source": [
        "b1=bond(2000000.0,0.03,0.04,10,2)\n",
        "print(b1)"
      ],
      "metadata": {
        "colab": {
          "base_uri": "https://localhost:8080/"
        },
        "id": "LDFlQ0Q99K9l",
        "outputId": "99fe6d1f-fcbb-4c76-de2c-2fc95d040c28"
      },
      "execution_count": 24,
      "outputs": [
        {
          "output_type": "stream",
          "name": "stdout",
          "text": [
            "2000000.0,0.03,0.03,10,0,0\n"
          ]
        }
      ]
    },
    {
      "cell_type": "markdown",
      "source": [
        "# Q2 Create Convertible Class\n",
        "\n",
        "\n",
        "Create a new class that inherits from the bond class. <br>\n",
        "- This means that the new class builds on the previous one. <br>\n",
        "- Use the code below to create a new class called convertible bond.<br>\n",
        "\n",
        "The class declaration must have the class it builds on as an argmument.\n",
        "- class convertible(bond):<br>\n",
        "\n",
        "The initialization function of the new class must take in all the arguments of the original bond class plus any new attributes.\n",
        "- The old attributes are face,ytm,couponrate,m,pmtperyear\n",
        "- Please add this new attribute: conversion_ratio\n",
        "\n",
        "Use the initialization function of the original bond class to build the part of the new class that uses the bond class.<br>Send all of the arguments that build the original bond function to\n",
        "- super().__init__(<ARGUMENTS>)\n",
        "\n",
        "Initialize the values of the new arguments to the new class.\n",
        "- self.conversion_ratio = conversion_ratio\n",
        "\n",
        "\n",
        "\n",
        "\n"
      ],
      "metadata": {
        "id": "pc-kE-EyAH0r"
      }
    },
    {
      "cell_type": "code",
      "source": [
        "class bond:\n",
        "    def __init__(self,face,ytm,couponrate,m,pmtperyear):\n",
        "        self.face = face\n",
        "        self.couponrate = ytm\n",
        "        self.pmtperyear = pmtperyear\n",
        "        self.m = m\n",
        "        self.ytm = ytm\n",
        "        self.price = 0\n",
        "        self.duration = 0\n",
        "    def __repr__(self):\n",
        "        return \"{},{},{},{},{},{}\".format(self.face,self.ytm,self.couponrate,self.m,round(self.price,2),round(self.duration,2))\n",
        "\n",
        "class convertible(bond):\n",
        "    def __init__(self,face,ytm,couponrate,m,pmtperyear,conversion_ratio):\n",
        "        super().__init__(face,ytm,couponrate,m,pmtperyear)\n",
        "        self.conversion_ratio = conversion_ratio\n",
        "    def __repr__(self):\n",
        "        return \"{},{},{},{},{},{},{}\".format(self.face,self.ytm,self.couponrate,self.m,round(self.price,2),round(self.duration,2),self.conversion_ratio)\n"
      ],
      "metadata": {
        "id": "mclOeXmsNHlx"
      },
      "execution_count": 47,
      "outputs": []
    },
    {
      "cell_type": "code",
      "source": [
        "c1=convertible(2000000.0,0.03,0.04,10,2,10)\n",
        "print(c1)"
      ],
      "metadata": {
        "colab": {
          "base_uri": "https://localhost:8080/"
        },
        "id": "qDcxi2-tANpE",
        "outputId": "2276ad04-91a6-4bc4-c6d8-c242087ac572"
      },
      "execution_count": 34,
      "outputs": [
        {
          "output_type": "stream",
          "name": "stdout",
          "text": [
            "2000000.0,0.03,0.03,10,0,0,10\n"
          ]
        }
      ]
    },
    {
      "cell_type": "markdown",
      "source": [
        "# Q3 Estimate num_bonds\n",
        "Study this [link](https://www.investopedia.com/terms/c/conversionratio.asp)<br>\n",
        "Get the number of bonds<br>\n",
        "- Recall that a bond is generally set to $1000 face amount\n",
        "- Create a new attribute to be calculated an initialization\n",
        "- self.num_bonds = self.face/1000\n",
        "\n",
        "We can think of the overall bond face amount and price as the value of the overall position."
      ],
      "metadata": {
        "id": "g9myB82FwOa2"
      }
    },
    {
      "cell_type": "code",
      "source": [
        "def num_bonds(bond):\n",
        "    return(bond.face/1000)\n",
        "\n",
        "num_bonds(c1)"
      ],
      "metadata": {
        "id": "Jza5PcpD-GWc",
        "colab": {
          "base_uri": "https://localhost:8080/"
        },
        "outputId": "7c95a647-ed44-45d5-a7e1-cb556284242e"
      },
      "execution_count": 44,
      "outputs": [
        {
          "output_type": "execute_result",
          "data": {
            "text/plain": [
              "2000.0"
            ]
          },
          "metadata": {},
          "execution_count": 44
        }
      ]
    },
    {
      "cell_type": "markdown",
      "source": [
        "# Q4 Estimate Conversion Ratio\n",
        "Create a method that calculates the conversion market value.<br>\n",
        "The market value equals the number of bonds times the conversion ratio * the market price.<br>\n",
        "The market price is an argument to the method.<br>\n",
        "\n",
        "getConversionValue(stock_price) = # Your work here"
      ],
      "metadata": {
        "id": "chADSsf-8RlX"
      }
    },
    {
      "cell_type": "code",
      "source": [
        "def getConversionValue(bond,stock_price):\n",
        "    return(bond.num_bonds * bond.conversion_ratio * stock_price)\n",
        "\n",
        "print(getConversionValue(c1,100))"
      ],
      "metadata": {
        "id": "4mqiI-fLwNyz",
        "colab": {
          "base_uri": "https://localhost:8080/",
          "height": 292
        },
        "outputId": "f002439c-5fe5-457b-b4b6-67cedd4eb6f8"
      },
      "execution_count": 57,
      "outputs": [
        {
          "output_type": "error",
          "ename": "AttributeError",
          "evalue": "'convertible' object has no attribute 'num_bonds'",
          "traceback": [
            "\u001b[0;31m---------------------------------------------------------------------------\u001b[0m",
            "\u001b[0;31mAttributeError\u001b[0m                            Traceback (most recent call last)",
            "\u001b[0;32m<ipython-input-57-74d066287faf>\u001b[0m in \u001b[0;36m<cell line: 0>\u001b[0;34m()\u001b[0m\n\u001b[1;32m     10\u001b[0m     \u001b[0;32mreturn\u001b[0m\u001b[0;34m(\u001b[0m\u001b[0mbond\u001b[0m\u001b[0;34m.\u001b[0m\u001b[0mnum_bonds\u001b[0m \u001b[0;34m*\u001b[0m \u001b[0mbond\u001b[0m\u001b[0;34m.\u001b[0m\u001b[0mconversion_ratio\u001b[0m \u001b[0;34m*\u001b[0m \u001b[0mstock_price\u001b[0m\u001b[0;34m)\u001b[0m\u001b[0;34m\u001b[0m\u001b[0;34m\u001b[0m\u001b[0m\n\u001b[1;32m     11\u001b[0m \u001b[0;34m\u001b[0m\u001b[0m\n\u001b[0;32m---> 12\u001b[0;31m \u001b[0mprint\u001b[0m\u001b[0;34m(\u001b[0m\u001b[0mgetConversionValue\u001b[0m\u001b[0;34m(\u001b[0m\u001b[0mc1\u001b[0m\u001b[0;34m,\u001b[0m\u001b[0;36m100\u001b[0m\u001b[0;34m)\u001b[0m\u001b[0;34m)\u001b[0m\u001b[0;34m\u001b[0m\u001b[0;34m\u001b[0m\u001b[0m\n\u001b[0m",
            "\u001b[0;32m<ipython-input-57-74d066287faf>\u001b[0m in \u001b[0;36mgetConversionValue\u001b[0;34m(bond, stock_price)\u001b[0m\n\u001b[1;32m      8\u001b[0m \u001b[0;34m\u001b[0m\u001b[0m\n\u001b[1;32m      9\u001b[0m \u001b[0;32mdef\u001b[0m \u001b[0mgetConversionValue\u001b[0m\u001b[0;34m(\u001b[0m\u001b[0mbond\u001b[0m\u001b[0;34m,\u001b[0m\u001b[0mstock_price\u001b[0m\u001b[0;34m)\u001b[0m\u001b[0;34m:\u001b[0m\u001b[0;34m\u001b[0m\u001b[0;34m\u001b[0m\u001b[0m\n\u001b[0;32m---> 10\u001b[0;31m     \u001b[0;32mreturn\u001b[0m\u001b[0;34m(\u001b[0m\u001b[0mbond\u001b[0m\u001b[0;34m.\u001b[0m\u001b[0mnum_bonds\u001b[0m \u001b[0;34m*\u001b[0m \u001b[0mbond\u001b[0m\u001b[0;34m.\u001b[0m\u001b[0mconversion_ratio\u001b[0m \u001b[0;34m*\u001b[0m \u001b[0mstock_price\u001b[0m\u001b[0;34m)\u001b[0m\u001b[0;34m\u001b[0m\u001b[0;34m\u001b[0m\u001b[0m\n\u001b[0m\u001b[1;32m     11\u001b[0m \u001b[0;34m\u001b[0m\u001b[0m\n\u001b[1;32m     12\u001b[0m \u001b[0mprint\u001b[0m\u001b[0;34m(\u001b[0m\u001b[0mgetConversionValue\u001b[0m\u001b[0;34m(\u001b[0m\u001b[0mc1\u001b[0m\u001b[0;34m,\u001b[0m\u001b[0;36m100\u001b[0m\u001b[0;34m)\u001b[0m\u001b[0;34m)\u001b[0m\u001b[0;34m\u001b[0m\u001b[0;34m\u001b[0m\u001b[0m\n",
            "\u001b[0;31mAttributeError\u001b[0m: 'convertible' object has no attribute 'num_bonds'"
          ]
        }
      ]
    },
    {
      "cell_type": "markdown",
      "source": [
        "# Q5 Estimate Equity Conversion Price\n",
        "Create a method that calculates the parity stock price.<br>\n",
        "The method returns the stock price that matches the current value of the overall bond position.<br>\n",
        "getConversionPrice() = # Your work here"
      ],
      "metadata": {
        "id": "czOyuAuLDUF3"
      }
    },
    {
      "cell_type": "code",
      "source": [],
      "metadata": {
        "id": "caYWDjoSRyZ8"
      },
      "execution_count": null,
      "outputs": []
    }
  ]
}