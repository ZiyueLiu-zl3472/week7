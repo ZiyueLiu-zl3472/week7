{
  "nbformat": 4,
  "nbformat_minor": 0,
  "metadata": {
    "colab": {
      "provenance": [],
      "include_colab_link": true
    },
    "kernelspec": {
      "name": "python3",
      "display_name": "Python 3"
    },
    "language_info": {
      "name": "python"
    }
  },
  "cells": [
    {
      "cell_type": "markdown",
      "metadata": {
        "id": "view-in-github",
        "colab_type": "text"
      },
      "source": [
        "<a href=\"https://colab.research.google.com/github/ZiyueLiu-zl3472/week7/blob/main/bond2.ipynb\" target=\"_parent\"><img src=\"https://colab.research.google.com/assets/colab-badge.svg\" alt=\"Open In Colab\"/></a>"
      ]
    },
    {
      "cell_type": "code",
      "execution_count": null,
      "metadata": {
        "colab": {
          "base_uri": "https://localhost:8080/"
        },
        "id": "yYeLP5gXj3Yb",
        "outputId": "5b3ef380-ec0a-4428-c601-1da86995bf78"
      },
      "outputs": [
        {
          "output_type": "stream",
          "name": "stdout",
          "text": [
            "5000000.0,0.275,0.063,10\n"
          ]
        }
      ],
      "source": [
        "\n",
        "import numpy as np\n",
        "# Numerical Python - a fundamental package for numerical and scientific computing in Python\n",
        "\n",
        "class bond:\n",
        "    def __init__(self):\n",
        "        self.face = (round(np.random.uniform()*10,0)+1)*1e6\n",
        "        self.couponRate = round(np.random.uniform()/3,3)\n",
        "        self.pmtperyear = int(round(np.random.uniform(),0)+1)\n",
        "        self.m = int(round(np.random.uniform()*10,0))\n",
        "        self.ytm = round(np.random.uniform()/3,3)\n",
        "        self.m = round(np.random.uniform()*5+5)\n",
        "        self.price = 0\n",
        "        self.duration = 0\n",
        "    def __repr__(self):\n",
        "        return \"{},{},{},{}\".format(self.face,self.ytm,self.couponRate,self.m)\n",
        "\n",
        "b1 = bond()\n",
        "print(b1)\n",
        "\n"
      ]
    },
    {
      "cell_type": "code",
      "source": [
        "b1.ytm=.03"
      ],
      "metadata": {
        "id": "R2Kk4xNe06N7"
      },
      "execution_count": null,
      "outputs": []
    },
    {
      "cell_type": "code",
      "execution_count": null,
      "metadata": {
        "colab": {
          "base_uri": "https://localhost:8080/"
        },
        "outputId": "a093ea5c-afaf-44b9-a1ea-118a16f896ea",
        "id": "HdZ4A-dUmdIc"
      },
      "outputs": [
        {
          "output_type": "stream",
          "name": "stdout",
          "text": [
            "8000000.0,0.22,0.138,6\n",
            "2000000.0,100,0.03,0.04\n"
          ]
        }
      ],
      "source": [
        "\n",
        "\n",
        "\n",
        "#%%\n",
        "\n",
        "class bond:\n",
        "    def __init__(self):\n",
        "        self.face = (round(np.random.uniform()*10,0)+1)*1e6\n",
        "        self.couponrate = round(np.random.uniform()/3,3)\n",
        "        self.pmtperyear = int(round(np.random.uniform(),0)+1)\n",
        "        self.m = int(round(np.random.uniform()*10,0))\n",
        "        self.ytm = round(np.random.uniform()/3,3)\n",
        "        self.m = round(np.random.uniform()*5+5)\n",
        "        self.price = 0\n",
        "        self.duration = 0\n",
        "    def __repr__(self):\n",
        "        return \"{},{},{},{}\".format(self.face,self.ytm,self.couponrate,self.m)\n",
        "#generate a random bond\n",
        "    def Assign(self,face,couponrate,m,ytm,pmtperyear):\n",
        "        self.face = face\n",
        "        self.couponrate = couponrate\n",
        "        self.pmtperyear = pmtperyear\n",
        "        self.m = m\n",
        "        self.ytm = ytm\n",
        "#create a function Assign - define a method that function on specific object\n",
        "\n",
        "b2 = bond()\n",
        "print(b2)\n",
        "b2.Assign(2e6,.03,.04,100,1) #assign new value into the bond\n",
        "print(b2)\n",
        "\n",
        "\n",
        "\n"
      ]
    },
    {
      "cell_type": "code",
      "execution_count": null,
      "metadata": {
        "colab": {
          "base_uri": "https://localhost:8080/"
        },
        "outputId": "e67cd0b1-29c9-4d10-e995-c4c433d91889",
        "id": "YHmACGs2mdcU"
      },
      "outputs": [
        {
          "output_type": "stream",
          "name": "stdout",
          "text": [
            "6000000.0,0.048,0.053,7,0,0\n",
            "0\n",
            "2170604.0567355165\n",
            "0\n",
            "8.508690304459574\n"
          ]
        }
      ],
      "source": [
        "\n",
        "\n",
        "\n",
        "\n",
        "#%%\n",
        "\n",
        "class bond:\n",
        "    def __init__(self):\n",
        "        self.face = (round(np.random.uniform()*10,0)+1)*1e6\n",
        "        self.couponrate = round(np.random.uniform()/3,3)\n",
        "        self.pmtperyear = int(round(np.random.uniform(),0)+1)\n",
        "        self.m = int(round(np.random.uniform()*10,0))\n",
        "        self.ytm = round(np.random.uniform()/3,3)\n",
        "        self.m = round(np.random.uniform()*5+5)\n",
        "        self.price = 0\n",
        "        self.duration = 0\n",
        "#need to then create functions to change the self.xxx in initial formula\n",
        "#__init__ is always there, __repr__ is optional, methods without __ are the methods you defined\n",
        "#use unit test to maintain methods to make sure they don't get messed up\n",
        "    def __repr__(self):\n",
        "        return \"{},{},{},{},{},{}\".format(self.face,self.ytm,self.couponrate,self.m,round(self.price,2),round(self.duration,2))\n",
        "    def Assign(self,face,ytm,couponrate,m,pmtperyear):\n",
        "        self.face = face\n",
        "        self.couponrate = couponrate\n",
        "        self.pmtperyear = pmtperyear\n",
        "        self.m = m\n",
        "        self.ytm = ytm\n",
        "    def getPrice(self):\n",
        "        face = self.face\n",
        "        couponrate = self.couponrate\n",
        "        pmtperyear = self.pmtperyear\n",
        "        m = self.m\n",
        "        y = self.ytm\n",
        "\n",
        "        C = face * couponrate / pmtperyear\n",
        "        n = m * pmtperyear\n",
        "        y_eff = y/pmtperyear\n",
        "        B = 0\n",
        "        for i in range(1,n+1):\n",
        "            pv = (1+y_eff)**(-i)\n",
        "            B_i = C * pv\n",
        "            B += B_i\n",
        "        B += face * pv\n",
        "        self.price = B\n",
        "#create the function getPrice\n",
        "    def getDuration(self):\n",
        "        face = self.face\n",
        "        couponrate = self.couponrate\n",
        "        pmtperyear = self.pmtperyear\n",
        "        m = self.m\n",
        "        y = self.ytm\n",
        "        C = face * couponrate / pmtperyear\n",
        "        n = m * pmtperyear\n",
        "        y_eff = y/pmtperyear\n",
        "        B = 0\n",
        "        Btime = 0\n",
        "        for i in range(1,n+1):\n",
        "            pv = (1+y_eff)**(-i)\n",
        "            B_i = C * pv\n",
        "            B += B_i\n",
        "            Btime_i = i * B_i\n",
        "            Btime += Btime_i\n",
        "        B += face * pv\n",
        "        Btime += face * pv * i\n",
        "        self.duration = Btime/B\n",
        "#create the function getDuration\n",
        "\n",
        "b3 = bond()\n",
        "print(b3)\n",
        "#define to a random bond\n",
        "b3.Assign(2e6,.03,.04,10,1)\n",
        "print(b3.price)\n",
        "#assign the bond - price is 0 because haven't called the method - default no value for price\n",
        "b3.getPrice()\n",
        "print(b3.price)\n",
        "#apply the getPrice method to b3 object\n",
        "print(b3.duration)\n",
        "#haven't called the getDuration method - default no value\n",
        "b3.getDuration()\n",
        "print(b3.duration)\n",
        "##apply the getDuration method to b3 object"
      ]
    },
    {
      "cell_type": "code",
      "source": [
        "bonds = []\n",
        "n = 5\n",
        "for i in range(n):\n",
        "    bonds.append(bond())\n",
        "#create a list from 1-5 of bonds\n",
        "\n",
        "#%%\n",
        "for b in bonds:\n",
        "    print(b)\n",
        "\n",
        "#%%\n",
        "for b in bonds:\n",
        "    b.getPrice()\n",
        "    b.getDuration()\n",
        "#bond ojects have getBond and getDuration methods\n",
        "\n",
        "#%%\n",
        "for b in bonds:\n",
        "    print(b)\n",
        "#append the price and duration to bonds\n",
        "\n",
        "#%%\n",
        "def PortfolioDuration(bonds):\n",
        "    num = 0\n",
        "    den = 0\n",
        "    for x in bonds:\n",
        "        D_i = x.duration\n",
        "        w_i = x.price\n",
        "        num += D_i * w_i #sum of price*duration\n",
        "        den += w_i #sum of all prices\n",
        "    duration = num/den\n",
        "    return(duration)\n",
        "#get portfolioDuration using duration weights/total weights - price weighted average of duration of bond\n",
        "\n",
        "#%%\n",
        "print(PortfolioDuration(bonds))\n"
      ],
      "metadata": {
        "id": "n45kCS93wYVz",
        "outputId": "1c3f8137-a605-46e4-cd30-8f4edd67e930",
        "colab": {
          "base_uri": "https://localhost:8080/"
        }
      },
      "execution_count": null,
      "outputs": [
        {
          "output_type": "stream",
          "name": "stdout",
          "text": [
            "8000000.0,0.184,0.019,6,0,0\n",
            "2000000.0,0.284,0.282,5,0,0\n",
            "3000000.0,0.211,0.185,9,0,0\n",
            "10000000.0,0.213,0.01,5,0,0\n",
            "5000000.0,0.221,0.058,7,0,0\n",
            "8000000.0,0.184,0.019,6,3321166.8,10.94\n",
            "2000000.0,0.284,0.282,5,1989951.17,3.23\n",
            "3000000.0,0.211,0.185,9,2691110.91,8.96\n",
            "10000000.0,0.213,0.01,5,3933677.94,9.6\n",
            "5000000.0,0.221,0.058,7,2162386.57,10.2\n",
            "8.985710863203137\n"
          ]
        }
      ]
    }
  ]
}