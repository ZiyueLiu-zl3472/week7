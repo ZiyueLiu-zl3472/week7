{
  "nbformat": 4,
  "nbformat_minor": 0,
  "metadata": {
    "colab": {
      "provenance": [],
      "include_colab_link": true
    },
    "kernelspec": {
      "name": "python3",
      "display_name": "Python 3"
    },
    "language_info": {
      "name": "python"
    }
  },
  "cells": [
    {
      "cell_type": "markdown",
      "metadata": {
        "id": "view-in-github",
        "colab_type": "text"
      },
      "source": [
        "<a href=\"https://colab.research.google.com/github/ZiyueLiu-zl3472/week7/blob/main/bond2.ipynb\" target=\"_parent\"><img src=\"https://colab.research.google.com/assets/colab-badge.svg\" alt=\"Open In Colab\"/></a>"
      ]
    },
    {
      "cell_type": "code",
      "execution_count": 1,
      "metadata": {
        "colab": {
          "base_uri": "https://localhost:8080/"
        },
        "id": "yYeLP5gXj3Yb",
        "outputId": "846aecf4-b18f-4e4a-fa2b-4e7ce396bd62"
      },
      "outputs": [
        {
          "output_type": "stream",
          "name": "stdout",
          "text": [
            "7000000.0,0.297,0.286,8\n"
          ]
        }
      ],
      "source": [
        "\n",
        "import numpy as np\n",
        "\n",
        "\n",
        "class bond:\n",
        "    def __init__(self):\n",
        "        self.face = (round(np.random.uniform()*10,0)+1)*1e6\n",
        "        self.couponRate = round(np.random.uniform()/3,3)\n",
        "        self.pmtperyear = int(round(np.random.uniform(),0)+1)\n",
        "        self.m = int(round(np.random.uniform()*10,0))\n",
        "        self.ytm = round(np.random.uniform()/3,3)\n",
        "        self.m = round(np.random.uniform()*5+5)\n",
        "        self.price = 0\n",
        "        self.duration = 0\n",
        "    def __repr__(self):\n",
        "        return \"{},{},{},{}\".format(self.face,self.ytm,self.couponRate,self.m)\n",
        "\n",
        "b1 = bond()\n",
        "print(b1)\n",
        "\n"
      ]
    },
    {
      "cell_type": "code",
      "execution_count": 2,
      "metadata": {
        "colab": {
          "base_uri": "https://localhost:8080/"
        },
        "outputId": "3d0b2176-b843-4324-bd6e-ae78e9779ce6",
        "id": "HdZ4A-dUmdIc"
      },
      "outputs": [
        {
          "output_type": "stream",
          "name": "stdout",
          "text": [
            "7000000.0,0.09,0.186,9\n",
            "2000000.0,100,0.03,0.04\n"
          ]
        }
      ],
      "source": [
        "\n",
        "\n",
        "\n",
        "#%%\n",
        "\n",
        "class bond:\n",
        "    def __init__(self):\n",
        "        self.face = (round(np.random.uniform()*10,0)+1)*1e6\n",
        "        self.couponrate = round(np.random.uniform()/3,3)\n",
        "        self.pmtperyear = int(round(np.random.uniform(),0)+1)\n",
        "        self.m = int(round(np.random.uniform()*10,0))\n",
        "        self.ytm = round(np.random.uniform()/3,3)\n",
        "        self.m = round(np.random.uniform()*5+5)\n",
        "        self.price = 0\n",
        "        self.duration = 0\n",
        "    def __repr__(self):\n",
        "        return \"{},{},{},{}\".format(self.face,self.ytm,self.couponrate,self.m)\n",
        "#generate a random bond\n",
        "    def Assign(self,face,couponrate,m,ytm,pmtperyear):\n",
        "        self.face = face\n",
        "        self.couponrate = couponrate\n",
        "        self.pmtperyear = pmtperyear\n",
        "        self.m = m\n",
        "        self.ytm = ytm\n",
        "#create a function Assign - define a method that function on specific object\n",
        "\n",
        "b2 = bond()\n",
        "print(b2)\n",
        "b2.Assign(2e6,.03,.04,100,1)\n",
        "print(b2)\n",
        "\n",
        "\n",
        "\n"
      ]
    },
    {
      "cell_type": "code",
      "execution_count": 7,
      "metadata": {
        "colab": {
          "base_uri": "https://localhost:8080/"
        },
        "outputId": "9cd9155c-6820-409b-8226-a8e18c3a67ad",
        "id": "YHmACGs2mdcU"
      },
      "outputs": [
        {
          "output_type": "stream",
          "name": "stdout",
          "text": [
            "4000000.0,0.004,0.321,7,0,0\n",
            "0\n",
            "2170604.0567355165\n",
            "0\n",
            "8.508690304459574\n"
          ]
        }
      ],
      "source": [
        "\n",
        "\n",
        "\n",
        "\n",
        "#%%\n",
        "\n",
        "class bond:\n",
        "    def __init__(self):\n",
        "        self.face = (round(np.random.uniform()*10,0)+1)*1e6\n",
        "        self.couponrate = round(np.random.uniform()/3,3)\n",
        "        self.pmtperyear = int(round(np.random.uniform(),0)+1)\n",
        "        self.m = int(round(np.random.uniform()*10,0))\n",
        "        self.ytm = round(np.random.uniform()/3,3)\n",
        "        self.m = round(np.random.uniform()*5+5)\n",
        "        self.price = 0\n",
        "        self.duration = 0\n",
        "#need to then create functions to change the self.xxx in initial formula\n",
        "#__init__ is always there, __repr__ is optional, methods without __ are the methods you defined\n",
        "#use unit test to maintain methods to make sure they don't get messed up\n",
        "    def __repr__(self):\n",
        "        return \"{},{},{},{},{},{}\".format(self.face,self.ytm,self.couponrate,self.m,round(self.price,2),round(self.duration,2))\n",
        "    def Assign(self,face,ytm,couponrate,m,pmtperyear):\n",
        "        self.face = face\n",
        "        self.couponrate = couponrate\n",
        "        self.pmtperyear = pmtperyear\n",
        "        self.m = m\n",
        "        self.ytm = ytm\n",
        "    def getPrice(self):\n",
        "        face = self.face\n",
        "        couponrate = self.couponrate\n",
        "        pmtperyear = self.pmtperyear\n",
        "        m = self.m\n",
        "        y = self.ytm\n",
        "\n",
        "        C = face * couponrate / pmtperyear\n",
        "        n = m * pmtperyear\n",
        "        y_eff = y/pmtperyear\n",
        "        B = 0\n",
        "        for i in range(1,n+1):\n",
        "            pv = (1+y_eff)**(-i)\n",
        "            B_i = C * pv\n",
        "            B += B_i\n",
        "        B += face * pv\n",
        "        self.price = B\n",
        "#create the function getPrice\n",
        "    def getDuration(self):\n",
        "        face = self.face\n",
        "        couponrate = self.couponrate\n",
        "        pmtperyear = self.pmtperyear\n",
        "        m = self.m\n",
        "        y = self.ytm\n",
        "        C = face * couponrate / pmtperyear\n",
        "        n = m * pmtperyear\n",
        "        y_eff = y/pmtperyear\n",
        "        B = 0\n",
        "        Btime = 0\n",
        "        for i in range(1,n+1):\n",
        "            pv = (1+y_eff)**(-i)\n",
        "            B_i = C * pv\n",
        "            B += B_i\n",
        "            Btime_i = i * B_i\n",
        "            Btime += Btime_i\n",
        "        B += face * pv\n",
        "        Btime += face * pv * i\n",
        "        self.duration = Btime/B\n",
        "#create the function getDuration\n",
        "\n",
        "b3 = bond()\n",
        "print(b3)\n",
        "#define to a random bond\n",
        "b3.Assign(2e6,.03,.04,10,1)\n",
        "print(b3.price)\n",
        "#assign the bond - price is 0 because haven't called the method - default no value for price\n",
        "b3.getPrice()\n",
        "print(b3.price)\n",
        "#apply the getPrice method to b3 object\n",
        "print(b3.duration)\n",
        "#haven't called the getDuration method - default no value\n",
        "b3.getDuration()\n",
        "print(b3.duration)\n",
        "##apply the getDuration method to b3 object"
      ]
    },
    {
      "cell_type": "code",
      "source": [
        "bonds = []\n",
        "n = 5\n",
        "for i in range(n):\n",
        "    bonds.append(bond())\n",
        "#create a list from 1-5 of bonds\n",
        "\n",
        "#%%\n",
        "for b in bonds:\n",
        "    print(b)\n",
        "\n",
        "#%%\n",
        "for b in bonds:\n",
        "    b.getPrice()\n",
        "    b.getDuration()\n",
        "#bond ojects have getBond and getDuration methods\n",
        "\n",
        "#%%\n",
        "for b in bonds:\n",
        "    print(b)\n",
        "\n",
        "#%%\n",
        "def PortfolioDuration(bonds):\n",
        "    num = 0\n",
        "    den = 0\n",
        "    for x in bonds:\n",
        "        D_i = x.duration\n",
        "        w_i = x.price\n",
        "        num += D_i * w_i\n",
        "        den += w_i\n",
        "    duration = num/den\n",
        "    return(duration)\n",
        "#get portfolioDuration using duration weights/total weights\n",
        "\n",
        "#%%\n",
        "print(PortfolioDuration(bonds))\n"
      ],
      "metadata": {
        "id": "n45kCS93wYVz",
        "outputId": "9ff01fb3-4ee2-4adb-93df-98e981c08ea2",
        "colab": {
          "base_uri": "https://localhost:8080/"
        }
      },
      "execution_count": 12,
      "outputs": [
        {
          "output_type": "stream",
          "name": "stdout",
          "text": [
            "2000000.0,0.216,0.285,9,0,0\n",
            "9000000.0,0.163,0.051,6,0,0\n",
            "7000000.0,0.039,0.265,8,0,0\n",
            "7000000.0,0.328,0.017,7,0,0\n",
            "2000000.0,0.211,0.136,8,0,0\n",
            "2000000.0,0.216,0.285,9,2538031.05,8.27\n",
            "9000000.0,0.163,0.051,6,5315114.25,5.07\n",
            "7000000.0,0.039,0.265,8,17695322.04,5.38\n",
            "7000000.0,0.328,0.017,7,1273972.04,6.0\n",
            "2000000.0,0.211,0.136,8,1442793.08,4.87\n",
            "5.58208621050204\n"
          ]
        }
      ]
    }
  ]
}